{
 "cells": [
  {
   "cell_type": "markdown",
   "metadata": {},
   "source": [
    "## On the Job Search Insurance\n",
    "\n",
    "### Carlos Lizama, Benjamín Villena\n",
    "\n",
    "#### Brief summary of the model\n",
    "* On-the-job search model. Each workers has an idiosyncratic process $x$ which determines the probability of being fired each period. The process has some persistance.\n",
    "* If the worker switch workers, the underlying variable $x$ starts from its steady state value.\n",
    "* Wages are drawn from an exogneous distribution.\n",
    "* Job finding probability $p(s)$ depends on effort $s$.\n",
    "* There is no self-insurance, ie, agents can not save nor borrow.\n",
    "\n",
    "#### Equations\n",
    "\n",
    "The value on unemployment is determined by\n",
    "\n",
    "$$(1-\\beta) U = u(b) - \\lambda s^* + \\beta p(s) \\int_{w^*}^{\\bar{w}} (W(w, \\bar{x}) - U) dF(w)$$\n",
    "\n",
    "where $w^*$ is the reservation wage $W(w^*, \\bar{x}) = U$ and $s^*$ is determined by\n",
    "$$\\lambda = \\beta p'(s) \\int_{w^*}^{\\bar{w}} (W(w, \\bar{x}) - U) dF(w)$$\n",
    "\n",
    "The value of employement, state $(w,x)$ is\n",
    "\n",
    "$$W(w,x) = u(w) - \\lambda s^* + \\beta \\left\\{ p(s) \\left[ \\int_{w^*(w,x)}^{\\bar{w}} \\left( W(w',x) - \\int W(w,x') dG(x'|x) \\right) dF(w') +\\delta(x) \\left( \\int W(w,x') dG(x'|x) - U \\right)  \\right] + \\delta(x) U + (1-\\delta(x)) \\int W(w,x') dG(x'|x) \\right\\}$$\n",
    "\n",
    "where $w^*(w,x)$ is such that $W(w^*(w,x),x) = \\int W(w,x') dG(x'|x)$ and $s^*(w,x)$ is determined by\n",
    "$$\\lambda = \\beta p'(s) \\left\\{ \\int_{w^(w,x)}^{\\bar{w}} \\left( W(w',x) - W(w,x') dG(x'|x) \\right) dF(w') + \\delta(x) \\left( \\int W(w,x') dG(x'|x) - U \\right) \\right\\}$$\n",
    "\n",
    "#### Functional forms\n",
    "Need to set functional forms to $u(c), F(w), p(s), G(x'|x), \\delta(x)$\n",
    "\n",
    "* $u(c) = \\frac{c^{1-\\sigma}}{1-\\sigma}$, with $\\sigma = 2$\n",
    "* $F(w)$ is truncated Pareto\n",
    "* $p(s)$ is exponential.\n",
    "* $G(x'|x)$: x follows and AR(1), discretized.\n",
    "* $\\delta(x)$ is normal. \n",
    "\n",
    "Of course, all of these parametrization can be changed. \n",
    "\n",
    "The choice of utility function is standard in the literature.\n",
    "\n",
    "I chose truncated Pareto since wages the data follow approximately a Pareto distribution. Another possibility is to change it by a log-normal.\n",
    "\n",
    "The exponential function for the job finding probability is to consider decreasing returns to effort and effort to be defined from 0 to infinity.\n",
    "\n",
    "AR(1) for x just to make it a Markov process and easy to discretize.\n",
    "\n",
    "#### Parameters\n",
    "Need to set values for discount factor $\\beta$, persistence of idiosyncratic process $\\rho$, effort cost $\\lambda$, unemployment benefits $b$\n"
   ]
  },
  {
   "cell_type": "code",
   "execution_count": 1,
   "metadata": {
    "collapsed": false
   },
   "outputs": [],
   "source": [
    "## Import Packages\n",
    "using Distributions\n",
    "using Roots\n",
    "using PyPlot"
   ]
  },
  {
   "cell_type": "markdown",
   "metadata": {},
   "source": [
    "I define a couple of functions that I will use throughout the code."
   ]
  },
  {
   "cell_type": "code",
   "execution_count": 2,
   "metadata": {
    "collapsed": false
   },
   "outputs": [
    {
     "data": {
      "text/plain": [
       "Rouwenhorst (generic function with 1 method)"
      ]
     },
     "execution_count": 2,
     "metadata": {},
     "output_type": "execute_result"
    }
   ],
   "source": [
    "\"\"\"\n",
    "Rowenhorst method for approximating AR(1) processes, z_{t+1} = (1-ρ)μ + ρ z_t + ɛ, where ɛ ∼ N(0,σ²)\n",
    "\n",
    "Inputs \n",
    "μ: unconditional mean of the process\n",
    "ρ: persistence of the process\n",
    "σ: standard deviation of innovations\n",
    "N: number of gridpoints \n",
    "\n",
    "Output\n",
    "z: gridpoints, points where the discrete version of the AR(1) takes values, dim = N\n",
    "P: transition matrix between states, dim NxN\n",
    "\n",
    "\"\"\"\n",
    "function Rouwenhorst(μ, ρ, σ, N)\n",
    "    \n",
    "    # grid points\n",
    "    σz = sqrt(σ^2/(1-ρ^2)) \n",
    "    ψ = σz*sqrt(N-1)\n",
    "    z = μ + collect(linspace(-ψ,ψ,N))\n",
    "    \n",
    "    # transition matrix\n",
    "    p = (1+ρ)/2\n",
    "    q = (1+ρ)/2\n",
    "    \n",
    "    P = [p 1-p; 1-q q]\n",
    "    \n",
    "    for n=3:N\n",
    "        v0 = zeros(n-1,1)\n",
    "        P = p*[P v0; v0' 0] + (1-p)*[v0 P; 0 v0'] +(1-q)*[v0' 0; P v0] + q*[0 v0'; v0 P];\n",
    "        P[2:end-1,:] = P[2:end-1,:]/2;\n",
    "    end\n",
    "     \n",
    "    return z,P\n",
    "    \n",
    "end"
   ]
  },
  {
   "cell_type": "code",
   "execution_count": 3,
   "metadata": {
    "collapsed": false
   },
   "outputs": [
    {
     "data": {
      "text/plain": [
       "Trapezoidal (generic function with 1 method)"
      ]
     },
     "execution_count": 3,
     "metadata": {},
     "output_type": "execute_result"
    }
   ],
   "source": [
    "\"\"\"\n",
    "Trapezoidal method  for computing integrals. This method also works for non-uniform grids.\n",
    "∫ₐᵇ f(x) dx = 1/2 ∑ (x_{k+1}-x_{k}) (f(x_{k+1}) + f(x_k))\n",
    "\"\"\"\n",
    "function Trapezoidal(x,f)\n",
    "    \n",
    "    I = (x[2:end]-x[1:end-1])'*(f[2:end]+f[1:end-1])/2\n",
    "    \n",
    "    return I[1]\n",
    "end\n"
   ]
  },
  {
   "cell_type": "code",
   "execution_count": 67,
   "metadata": {
    "collapsed": false
   },
   "outputs": [
    {
     "data": {
      "text/plain": [
       "0"
      ]
     },
     "execution_count": 67,
     "metadata": {},
     "output_type": "execute_result"
    }
   ],
   "source": [
    "## Paramtrization/Calibration\n",
    "\n",
    "# Parameter\n",
    "β = 0.95    # discount factor\n",
    "ρ = 0.75    # persistence of AR(1) process\n",
    "λ = 0.001       # marginal cost of effort\n",
    "b = 20.      # unemployment benefits\n",
    "σ = 2.       # risk aversion\n",
    "σₑ = .01      # std of innovations in AR(1) process\n",
    "Nx = 11     # number of points in the discretized process of x. Odd number so the middle point is on the grid.\n",
    "n0 = Int(ceil(Nx/2))   # index of middle x.\n",
    "Nw = 20     # number of gridpoints in grid for w.\n",
    "\n",
    "u(x) = x.^(1-σ)/(1-σ)  # utility function\n",
    "w₋ = 10.                # lower limit of wage distribution\n",
    "w⁻ = 100.              # upper limit of wage distribution\n",
    "w = w₋ + (w⁻-w₋)*linspace(0,1,Nw).^2    # w grid. the .^2 is to make a non-uniform grid to capture \n",
    "                                        # more curvature at the beginnning of the grid \n",
    "\n",
    "Ub = u(b)\n",
    "Uw = u(repmat(w,1,Nx))   # utility of consuming w in each state (w,x).\n",
    "\n",
    "# define F\n",
    "α = 1.01                 # parameter of Pareto distribution\n",
    "F₀ = Pareto(α, w₋)\n",
    "F₁ = Truncated(F₀, w₋, w⁻)   # truncate Pareto.\n",
    "F = pdf(F₁, w)\n",
    "sumF = Trapezoidal(w, F)\n",
    "F = F/sumF             # discretization of wage distribution, measure over each gridpoint of w.\n",
    "\n",
    "# define p, p(s) is job finding rate depending on effort. For this case, p is an exponential distribution.\n",
    "θₑ = 1                # parameter of exponential distribution\n",
    "pdist = Exponential(θₑ)\n",
    "p(s) = pdf(pdist, s) \n",
    "P(s) = cdf(pdist, s)\n",
    "\n",
    "# Discretize AR(1) process.\n",
    "δ = Normal()                   # define δ\n",
    "q = quantile(δ,.02)\n",
    "x, Px = Rouwenhorst(q, ρ, σₑ, Nx)   # x underlying process of dismissal, Px transition matrix\n",
    "δₓ = cdf(δ,x)                  # δ(x) probability of being dismissed.\n",
    "δX = repmat(δₓ',Nw,1)          # δ(x) as a matrix, I will use it, it is usefull to vectorize calculations.\n",
    "\n",
    "## Initial guess\n",
    "U = Ub\n",
    "W = Uw\n",
    "S = 0.01*ones(Nw,Nx)\n",
    "s0 = 0.01\n",
    "Sp = zeros(Nw,Nx)\n",
    "Ex = zeros(Nw,Nx)\n",
    "I1 = zeros(Nw,Nx)\n",
    "I = zeros(Nw,Nx)\n",
    "\n",
    "ii=0\n",
    "jj=0"
   ]
  },
  {
   "cell_type": "code",
   "execution_count": 77,
   "metadata": {
    "collapsed": false
   },
   "outputs": [
    {
     "data": {
      "image/png": "[encoded data removed]",
      "text/plain": [
       "PyPlot.Figure(PyObject <matplotlib.figure.Figure object at 0x321003cf8>)"
      ]
     },
     "metadata": {},
     "output_type": "display_data"
    },
    {
     "data": {
      "text/plain": [
       "1-element Array{Any,1}:\n",
       " PyObject <matplotlib.lines.Line2D object at 0x32138e160>"
      ]
     },
     "execution_count": 77,
     "metadata": {},
     "output_type": "execute_result"
    }
   ],
   "source": [
    "# Show distribution of wages\n",
    "plot(w,F,\"o\")\n"
   ]
  },
  {
   "cell_type": "code",
   "execution_count": 49,
   "metadata": {
    "collapsed": false
   },
   "outputs": [
    {
     "data": {
      "image/png": "[encoded data removed]",
      "text/plain": [
       "PyPlot.Figure(PyObject <matplotlib.figure.Figure object at 0x320752d30>)"
      ]
     },
     "metadata": {},
     "output_type": "display_data"
    },
    {
     "data": {
      "text/plain": [
       "1-element Array{Any,1}:\n",
       " PyObject <matplotlib.lines.Line2D object at 0x32090b940>"
      ]
     },
     "execution_count": 49,
     "metadata": {},
     "output_type": "execute_result"
    }
   ],
   "source": [
    "# job finding probability given effort s\n",
    "plot(linspace(0,5,30), p(linspace(0,5,30)))"
   ]
  },
  {
   "cell_type": "code",
   "execution_count": 68,
   "metadata": {
    "collapsed": false
   },
   "outputs": [
    {
     "ename": "LoadError",
     "evalue": "LoadError: [a,b] is not a bracket\nwhile loading In[68], in expression starting on line 7",
     "output_type": "error",
     "traceback": [
      "LoadError: [a,b] is not a bracket\nwhile loading In[68], in expression starting on line 7",
      "",
      " in find_zero at /Users/carloslizama/.julia/v0.4/Roots/src/fzero.jl:65",
      " in fzero at /Users/carloslizama/.julia/v0.4/Roots/src/Roots.jl:103",
      " in fzero at /Users/carloslizama/.julia/v0.4/Roots/src/Roots.jl:110",
      " [inlined code] from In[68]:25",
      " in anonymous at no file:0"
     ]
    }
   ],
   "source": [
    "## Algorithm: Value function Iteration\n",
    "\n",
    "ɛ = 1e-6\n",
    "T = 10   \n",
    "iter=0\n",
    "\n",
    "for t=1:T\n",
    "\n",
    "    iter+=1 \n",
    "    \n",
    "    # optimal effort for unemployed worker\n",
    "    I0 = Trapezoidal(w, (max(W[:,n0]-U,0).*F))\n",
    "    f(s) = λ/(β*I0)- p(s)\n",
    "    s0p = fzero(f, [0, 50])\n",
    "\n",
    "    # optimal effort for employed worker\n",
    "    for i=1:Nw\n",
    "        ii=ii+1\n",
    "        for j=1:Nx\n",
    "            jj=jj+1\n",
    "            Ex[i,j] = (W[i,:]*Px[j,:]')[1]\n",
    "            I1[i,j] = Trapezoidal(w, (max(W[:,j]-Ex[i,j],0).*F))\n",
    "            I[i,j] = I1[i,j] + δₓ[j]*(Ex[i,j]-U)\n",
    "            f(s) = λ/(β*I[i,j])- p(s)\n",
    "            Sp[i,j] = fzero(f, [0, 50])\n",
    "        end\n",
    "        jj=0\n",
    "    end\n",
    "\n",
    "    # Update guess for U and W\n",
    "    Up = (Ub - λ*s0p + β*P(s0p)*I0) + β*U\n",
    "    Wp = Uw -λ*Sp + β*(P(Sp).*I + δX*U + (1-δX).*Ex)\n",
    "\n",
    "    Δ = max(vecnorm(W-Wp,2),abs(U-Up))  # not sure which norm is best, but it shouldn't make much difference.\n",
    "    \n",
    "    U = Up\n",
    "    W = copy(Wp)\n",
    "    s0 = s0p\n",
    "    S = copy(Sp)\n",
    "    \n",
    "    println(diff)\n",
    "    \n",
    "end\n"
   ]
  },
  {
   "cell_type": "code",
   "execution_count": null,
   "metadata": {
    "collapsed": true
   },
   "outputs": [],
   "source": []
  }
 ],
 "metadata": {
  "kernelspec": {
   "display_name": "Julia 0.4.3",
   "language": "julia",
   "name": "julia-0.4"
  },
  "language_info": {
   "file_extension": ".jl",
   "mimetype": "application/julia",
   "name": "julia",
   "version": "0.4.3"
  }
 },
 "nbformat": 4,
 "nbformat_minor": 0
}
