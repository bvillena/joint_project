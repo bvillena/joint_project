{
 "cells": [
  {
   "cell_type": "markdown",
   "metadata": {},
   "source": [
    "## The Model (continuous time, no assets and multiple working states)\n",
    "\n",
    "The system of equation to be solved is\n",
    "\n",
    "\\begin{align}\n",
    "    \\rho U = & \\max_{s} u(b) - e(s) + \\lambda s \\int_{w^*}^{\\bar{w}} (W^n(w) - U) dF(w) \\\\\n",
    "    \\rho W^i(w) = & \\max_{s} u(w) - e(s) - \\delta_i (W^i(w) - U) + \\lambda s_i \\left( \\int_{\\underline{w}}^{\\bar{w}} \\max \\{ W^n(w'), W^i(w)\\} dF(w') - W^i(w) \\right) + \\\\ & \\sum_{j \\neq i}^{n} q_{i,j} (W^j(w)-W^i(w)) \\qquad \\text{for } i \\in \\{1, \\ldots, n\\}\n",
    "\\end{align}\n",
    "\n",
    "and $s_i$ satisfying\n",
    "\n",
    "\\begin{align}\n",
    "    e'(s_0) & = \\lambda \\int_{w^*}^{\\bar{w}} (W^n(w') - U) dF(w') \\\\\n",
    "    e'(s_i) & = \\lambda \\int_{w_i^*}^{\\bar{w}} (W^n(w') - W^i(w)) dF(w') \n",
    "\\end{align}\n",
    "\n",
    "### Computational algorithm\n",
    "\n",
    "Prodeed as follows:\n",
    "1. Guess value functions $U, W_i$\n",
    "2. Evaluate $s_i$ and $w_i^*$\n",
    "3. Update $U, W$ with current guess and check convergence.\n",
    "\n",
    "### Primitives of the economy\n",
    "\n",
    "$w, F(w), \\delta_i, \\lambda, e(s) = \\mu s^{\\eta}, u(c) = \\frac{c^{1-\\sigma}}{1-\\sigma}, q_{ij}$"
   ]
  },
  {
   "cell_type": "code",
   "execution_count": 1,
   "metadata": {
    "collapsed": false
   },
   "outputs": [
    {
     "data": {
      "text/plain": [
       "10"
      ]
     },
     "execution_count": 1,
     "metadata": {},
     "output_type": "execute_result"
    }
   ],
   "source": [
    "# Primitives of the model (theses have to be changed when we do a proper calibration)\n",
    "\n",
    "# wgrid\n",
    "Nw = 50\n",
    "wmin = 1\n",
    "wmax = 10\n",
    "w = collect(linspace(wmin,wmax,Nw))\n",
    "\n",
    "# density\n",
    "fw = ones(Nw)/Nw\n",
    "\n",
    "# job destruction rates\n",
    "N = 5           # number of states\n",
    "δmin = .001\n",
    "δmax = .01\n",
    "δ = sort(δmin + (δmax-δmin)*linspace(0,1,N).^2, rev=true)\n",
    "\n",
    "# other parameters\n",
    "λ = 1          # parameter of job finding rate\n",
    "σ = 2          # parameter of CRRA utility fuction\n",
    "η = 2          # elasticity of search cost with respect to effort\n",
    "μ = 1          # weight of the search cost in utility function\n",
    "b = 5.         # unemployment benefits\n",
    "ρ = .05        # discount rate\n",
    "\n",
    "# transition matrix. Again, this needs to be changed, I just invented it.\n",
    "Q = [1/(1+(j-i).^2) for i=1:N, j=1:N]\n",
    "Q = Q./sum(Q,2)\n",
    "[Q[i,i]=-sum(Q[i,:]) + Q[i,i] for i=1:N]\n",
    "\n",
    "# algorithm parameters\n",
    "maxiter=10\n"
   ]
  },
  {
   "cell_type": "code",
   "execution_count": 2,
   "metadata": {
    "collapsed": false
   },
   "outputs": [
    {
     "data": {
      "text/plain": [
       "50x5 Array{Float64,2}:\n",
       "  16.6667   17.8372   18.7793   19.3939   19.6078\n",
       "  19.7279   21.1135   22.2286   22.9561   23.2093\n",
       "  22.7891   24.3897   25.6779   26.5182   26.8107\n",
       "  25.8503   27.6659   29.1271   30.0804   30.4122\n",
       "  28.9116   30.9421   32.5764   33.6425   34.0136\n",
       "  31.9728   34.2184   36.0257   37.2047   37.615 \n",
       "  35.034    37.4946   39.4749   40.7669   41.2165\n",
       "  38.0952   40.7708   42.9242   44.329    44.8179\n",
       "  41.1565   44.0471   46.3735   47.8912   48.4194\n",
       "  44.2177   47.3233   49.8227   51.4533   52.0208\n",
       "  47.2789   50.5995   53.272    55.0155   55.6222\n",
       "  50.3401   53.8757   56.7213   58.5776   59.2237\n",
       "  53.4014   57.152    60.1705   62.1398   62.8251\n",
       "   ⋮                                             \n",
       " 132.993   142.334   149.851   154.756   156.463 \n",
       " 136.054   145.61    153.301   158.318   160.064 \n",
       " 139.116   148.886   156.75    161.88    163.665 \n",
       " 142.177   152.163   160.199   165.442   167.267 \n",
       " 145.238   155.439   163.649   169.004   170.868 \n",
       " 148.299   158.715   167.098   172.566   174.47  \n",
       " 151.361   161.991   170.547   176.129   178.071 \n",
       " 154.422   165.267   173.996   179.691   181.673 \n",
       " 157.483   168.544   177.446   183.253   185.274 \n",
       " 160.544   171.82    180.895   186.815   188.876 \n",
       " 163.605   175.096   184.344   190.377   192.477 \n",
       " 166.667   178.372   187.793   193.939   196.078 "
      ]
     },
     "execution_count": 2,
     "metadata": {},
     "output_type": "execute_result"
    }
   ],
   "source": [
    "# initial guess\n",
    "U = b/ρ\n",
    "W = (w'./(ρ+δ))'"
   ]
  },
  {
   "cell_type": "code",
   "execution_count": 4,
   "metadata": {
    "collapsed": false
   },
   "outputs": [
    {
     "ename": "LoadError",
     "evalue": "LoadError: BoundsError: attempt to access 50x5 Array{Float64,2}:\n 1320.7    467.393    85.5944  -17.3816  -25.0923\n 1316.56   467.254    87.0762  -15.6926  -23.2916\n 1321.09   465.666    87.5893  -14.8463  -22.3246\n 1313.89   462.932    87.4318  -14.5464  -21.8951\n 1304.64   459.233    86.7765  -14.6221  -21.8325\n 1293.47   454.685    85.7311  -14.9678  -22.0312\n 1280.5    455.796    84.3667  -15.5148  -22.423 \n 1265.79   450.333    82.7327  -16.2164  -22.9611\n 1268.7    444.194    80.8651  -17.0397  -23.6129\n 1252.23   437.417    78.7908  -17.9609  -24.3549\n 1234.18   430.034    76.5311  -18.9623  -25.1695\n 1214.6    422.078    74.1033  -20.0303  -26.0434\n 1193.55   413.575    71.5219  -21.1544  -26.9665\n    ⋮                                            \n  514.879  125.456   -15.3457  -57.5813  -57.1004\n  481.866  125.713   -18.5498  -59.0408  -58.3467\n  449.609  114.136   -21.6399  -60.4942  -59.5954\n  418.244  102.983   -24.6039  -61.9405  -60.8465\n  420.554   92.3051  -25.4224  -63.3788  -62.0998\n  390.217   82.1572  -28.2497  -64.808   -63.3551\n  361.052   72.5944  -30.9255  -66.2272  -64.6123\n  333.204   63.6732  -33.4366  -67.6353  -65.8713\n  306.822   55.4513  -35.7698  -69.0313  -67.132 \n  282.058   47.9879  -37.9116  -70.4142  -68.3943\n  284.357   41.3432  -39.8481  -71.7829  -69.6582\n  261.365   35.5787  -41.5652  -73.1364  -70.9234\n  at index [0:50,5]\nwhile loading In[4], in expression starting on line 11",
     "output_type": "error",
     "traceback": [
      "LoadError: BoundsError: attempt to access 50x5 Array{Float64,2}:\n 1320.7    467.393    85.5944  -17.3816  -25.0923\n 1316.56   467.254    87.0762  -15.6926  -23.2916\n 1321.09   465.666    87.5893  -14.8463  -22.3246\n 1313.89   462.932    87.4318  -14.5464  -21.8951\n 1304.64   459.233    86.7765  -14.6221  -21.8325\n 1293.47   454.685    85.7311  -14.9678  -22.0312\n 1280.5    455.796    84.3667  -15.5148  -22.423 \n 1265.79   450.333    82.7327  -16.2164  -22.9611\n 1268.7    444.194    80.8651  -17.0397  -23.6129\n 1252.23   437.417    78.7908  -17.9609  -24.3549\n 1234.18   430.034    76.5311  -18.9623  -25.1695\n 1214.6    422.078    74.1033  -20.0303  -26.0434\n 1193.55   413.575    71.5219  -21.1544  -26.9665\n    ⋮                                            \n  514.879  125.456   -15.3457  -57.5813  -57.1004\n  481.866  125.713   -18.5498  -59.0408  -58.3467\n  449.609  114.136   -21.6399  -60.4942  -59.5954\n  418.244  102.983   -24.6039  -61.9405  -60.8465\n  420.554   92.3051  -25.4224  -63.3788  -62.0998\n  390.217   82.1572  -28.2497  -64.808   -63.3551\n  361.052   72.5944  -30.9255  -66.2272  -64.6123\n  333.204   63.6732  -33.4366  -67.6353  -65.8713\n  306.822   55.4513  -35.7698  -69.0313  -67.132 \n  282.058   47.9879  -37.9116  -70.4142  -68.3943\n  284.357   41.3432  -39.8481  -71.7829  -69.6582\n  261.365   35.5787  -41.5652  -73.1364  -70.9234\n  at index [0:50,5]\nwhile loading In[4], in expression starting on line 11",
      ""
     ]
    }
   ],
   "source": [
    "# find reservation wages\n",
    "wres0 = findfirst(W[:,end]-U.>0)\n",
    "wres = zeros(Int64,Nw,N)\n",
    "for i in 1:Nw\n",
    "    for j in 1:N\n",
    "        wres[i,j] = findfirst(W[:,end]-W[i,j].>=0)\n",
    "    end\n",
    "end\n",
    "wres0 = max(wres0,1)\n",
    "wres = max(wres,1)\n",
    "\n",
    "# find optimal effort\n",
    "e0 = λ*dot((W[wres0:end,end]-U),fw[wres0:end])\n",
    "e = zeros(Nw,N)\n",
    "for i in 1:Nw\n",
    "    for j in 1:N-1\n",
    "        e[i,j] = λ*dot((W[wres[i,j]:end,end]-W[wres[i,j]:end,j]),fw[wres[i,j]:end])\n",
    "    end\n",
    "end\n",
    "s0 = (e0/(μ*η))^(1/(η-1))\n",
    "s = (e/(μ*η)).^(1/(η-1))\n",
    "\n",
    "# update U, W\n",
    "\n",
    "Up = b^(1-σ)/(1-σ) - μ*s0^η + s0*e0\n",
    "Up = Up/ρ\n",
    "\n",
    "Waux = zeros(Nw,N)\n",
    "for i=1:N\n",
    "    Qi = repmat(Q[i,:],Nw,1)\n",
    "    Wi = W - repmat(W[:,i],1,N)\n",
    "    QWi = Qi.*Wi\n",
    "    Waux[:,i] = sum(QWi,2)\n",
    "end\n",
    "\n",
    "Wp = repmat(w,1,N).^(1-σ)/(1-σ) - μ*s.^η - repmat(δ',Nw,1).*(W-U) + s.*e + Waux\n",
    "Wp = Wp/ρ\n",
    "\n",
    "d1 = abs(Up-U)\n",
    "d2 = vecnorm(Wp-W)\n",
    "\n",
    "d = max(d1,d2)\n",
    "println(d)\n",
    "\n",
    "U=Up\n",
    "W=Wp"
   ]
  },
  {
   "cell_type": "markdown",
   "metadata": {
    "collapsed": true
   },
   "source": [
    "After iterating over this algorithm, the model explodes."
   ]
  }
 ],
 "metadata": {
  "kernelspec": {
   "display_name": "Julia 0.4.3",
   "language": "julia",
   "name": "julia-0.4"
  },
  "language_info": {
   "file_extension": ".jl",
   "mimetype": "application/julia",
   "name": "julia",
   "version": "0.4.3"
  }
 },
 "nbformat": 4,
 "nbformat_minor": 0
}
